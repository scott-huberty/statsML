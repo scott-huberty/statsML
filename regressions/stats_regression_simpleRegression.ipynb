{
  "cells": [
    {
      "cell_type": "markdown",
      "metadata": {
        "id": "7hI8TV9fiyDR"
      },
      "source": [
        "# COURSE: Master statistics and machine learning: Intuition, Math, code\n",
        "##### COURSE URL: udemy.com/course/statsml_x/?couponCode=202112\n",
        "## SECTION: Regression\n",
        "### VIDEO: Simple regression\n",
        "#### TEACHER: Mike X Cohen, sincxpress.com"
      ]
    },
    {
      "cell_type": "code",
      "execution_count": 1,
      "metadata": {
        "id": "FW4RoAWRiyDT"
      },
      "outputs": [],
      "source": [
        "import numpy as np\n",
        "import matplotlib.pyplot as plt\n",
        "import scipy.stats as stats"
      ]
    },
    {
      "cell_type": "code",
      "execution_count": null,
      "metadata": {
        "id": "72bSqUxNiyDW"
      },
      "outputs": [],
      "source": [
        "## example: effects of sleep on food spending\n",
        "\n",
        "sleepHours = [5, 5.5, 6, 6, 7, 7, 7.5, 8, 8.5, 9]\n",
        "dollars = [47, 53, 52, 44, 39, 49, 50, 38, 43, 40]\n",
        "\n",
        "# start by showing the data\n",
        "plt.plot(sleepHours,dollars,'ko',markerfacecolor='k')\n",
        "plt.xlabel('Hours of sleep')\n",
        "plt.ylabel('Fijian dollars')\n",
        "plt.show()"
      ]
    },
    {
      "cell_type": "code",
      "execution_count": null,
      "metadata": {
        "id": "7LgkOnvZiyDW"
      },
      "outputs": [],
      "source": [
        "## \"manual\" regression via least-squares fitting\n",
        "\n",
        "# create the design matrix\n",
        "desmat = np.vstack((np.ones(10),sleepHours)).T\n",
        "print(desmat)\n",
        "\n",
        "# compute the beta parameters (regression coefficients)\n",
        "beta = np.linalg.lstsq(desmat,dollars,rcond=None)[0]\n",
        "print(beta)\n",
        "\n",
        "# predicted data values\n",
        "yHat = desmat@beta\n",
        "print(f\"predicted values: {yHat}\")"
      ]
    },
    {
      "cell_type": "code",
      "execution_count": null,
      "metadata": {
        "id": "NkG7pQU_iyDX"
      },
      "outputs": [],
      "source": [
        "## show the predicted results on top of the \"real\" data\n",
        "\n",
        "# show previous data\n",
        "plt.plot(sleepHours,dollars,'ko',markerfacecolor='k')\n",
        "\n",
        "# predicted results\n",
        "plt.plot(sleepHours,yHat,'s-')\n",
        "\n",
        "# show the residuals\n",
        "for i in range(10):\n",
        "    plt.plot([sleepHours[i],sleepHours[i]],[dollars[i], yHat[i]],'m--')\n",
        "\n",
        "\n",
        "plt.legend(('Data (y)','Model ($\\^{y}$)','Residuals'))\n",
        "\n",
        "plt.xlabel('Hours of sleep')\n",
        "plt.ylabel('Fijian dollars')\n",
        "plt.show()"
      ]
    },
    {
      "cell_type": "code",
      "execution_count": null,
      "metadata": {
        "id": "OnkL_DLSiyDX"
      },
      "outputs": [],
      "source": [
        "## now with scipy\n",
        "\n",
        "slope,intercept,r,p,std_err = stats.linregress(sleepHours,dollars)\n",
        "print(intercept,slope)\n",
        "print(beta)"
      ]
    },
    {
      "cell_type": "markdown",
      "source": [
        "# R squared by hand"
      ],
      "metadata": {
        "id": "uobyPcH6s0AT"
      }
    },
    {
      "cell_type": "code",
      "source": [
        "# Calculate the total sum of squares (TSS)\n",
        "mean_y = np.mean(dollars)\n",
        "tss = np.sum((dollars - mean_y)**2)\n",
        "\n",
        "# Calculate the residual sum of squares (RSS)\n",
        "rss = np.sum((dollars - yHat)**2)\n",
        "\n",
        "# Calculate R-squared (coefficient of determination)\n",
        "r_squared = 1 - (rss / tss)\n",
        "\n",
        "print(\"R-squared value:\", r_squared)"
      ],
      "metadata": {
        "id": "1KPCRyq0mqCx"
      },
      "execution_count": null,
      "outputs": []
    },
    {
      "cell_type": "markdown",
      "source": [
        "# F statistic by hand"
      ],
      "metadata": {
        "id": "DgAlK8wnsyKl"
      }
    },
    {
      "cell_type": "code",
      "source": [
        "from scipy.stats import f\n",
        "\n",
        "# Calculate the Model Sum of Squares (MSS)\n",
        "mean_y = np.mean(dollars)\n",
        "mss = np.sum((yHat - mean_y)**2)\n",
        "\n",
        "# Degrees of freedom\n",
        "k = 2 # number of parameters in model\n",
        "df_reg = k - 1  # degrees of freedom for the regression\n",
        "df_res = len(dollars) - k  # degrees of freedom for the residuals\n",
        "\n",
        "# Calculate the F-statistic\n",
        "f_statistic = (mss / df_reg) / (rss / df_res)\n",
        "\n",
        "# Calculate the p-value for the F-statistic\n",
        "p_value = f.sf(f_statistic, df_reg, df_res)\n",
        "\n",
        "print(\"F-statistic:\", f_statistic)\n",
        "print(\"P-value:\", p_value)"
      ],
      "metadata": {
        "id": "wGGdSEA5oe4F"
      },
      "execution_count": null,
      "outputs": []
    }
  ],
  "metadata": {
    "kernelspec": {
      "display_name": "Python 3",
      "language": "python",
      "name": "python3"
    },
    "language_info": {
      "codemirror_mode": {
        "name": "ipython",
        "version": 3
      },
      "file_extension": ".py",
      "mimetype": "text/x-python",
      "name": "python",
      "nbconvert_exporter": "python",
      "pygments_lexer": "ipython3",
      "version": "3.7.3"
    },
    "colab": {
      "provenance": []
    }
  },
  "nbformat": 4,
  "nbformat_minor": 0
}